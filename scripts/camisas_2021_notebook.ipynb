{
 "cells": [
  {
   "cell_type": "code",
   "execution_count": 28,
   "metadata": {},
   "outputs": [],
   "source": [
    "import pandas as pd\n",
    "\n",
    "datos = pd.read_excel('backup_PLANTILLA GRAL. 04112021 ACTIVO Y VAC.xlsx')\n",
    "datos2 = pd.read_csv('plantilla_fgj_2021-04-11_effm_v2_test.csv')"
   ]
  },
  {
   "cell_type": "code",
   "execution_count": 29,
   "metadata": {},
   "outputs": [
    {
     "data": {
      "text/plain": [
       "1281    FLORES MARTINEZ ERWIN FRANCISCO\n",
       "Name: NOMBRE COMPLETO, dtype: object"
      ]
     },
     "execution_count": 29,
     "metadata": {},
     "output_type": "execute_result"
    }
   ],
   "source": [
    "num_empleado = 49445\n",
    "\n",
    "datos[ datos['# EMP']==num_empleado]['NOMBRE COMPLETO']"
   ]
  },
  {
   "cell_type": "code",
   "execution_count": 30,
   "metadata": {},
   "outputs": [
    {
     "data": {
      "text/plain": [
       "Index(['CONTEO', 'SUBSECRETARIA', 'DIRECCION GRAL.', 'DIRECCION',\n",
       "       'SUBDIRECCION', 'DEPARTAMENTO', 'PUESTO', 'REVISION CURRICULAR',\n",
       "       'PLAZA', 'ID', 'NIVEL', 'ESTATUS', 'SITUACION', '# EMP',\n",
       "       'NOMBRE COMPLETO', 'OFICIO DE FECHA', 'MUNICIPIO', 'COMISION',\n",
       "       'FISCALIA DE DISTRITO'],\n",
       "      dtype='object')"
      ]
     },
     "execution_count": 30,
     "metadata": {},
     "output_type": "execute_result"
    }
   ],
   "source": [
    "datos.columns"
   ]
  },
  {
   "cell_type": "code",
   "execution_count": 31,
   "metadata": {},
   "outputs": [],
   "source": [
    "datos['# EMP'].fillna(0, inplace=True)\n",
    "datos['# EMP'] = datos['# EMP'].astype(int)"
   ]
  },
  {
   "cell_type": "code",
   "execution_count": 32,
   "metadata": {},
   "outputs": [
    {
     "name": "stdout",
     "output_type": "stream",
     "text": [
      "<class 'pandas.core.frame.DataFrame'>\n",
      "RangeIndex: 4784 entries, 0 to 4783\n",
      "Data columns (total 19 columns):\n",
      " #   Column                Non-Null Count  Dtype \n",
      "---  ------                --------------  ----- \n",
      " 0   CONTEO                4784 non-null   int64 \n",
      " 1   SUBSECRETARIA         4784 non-null   object\n",
      " 2   DIRECCION GRAL.       4784 non-null   object\n",
      " 3   DIRECCION             4784 non-null   object\n",
      " 4   SUBDIRECCION          4784 non-null   object\n",
      " 5   DEPARTAMENTO          4784 non-null   object\n",
      " 6   PUESTO                4784 non-null   object\n",
      " 7   REVISION CURRICULAR   540 non-null    object\n",
      " 8   PLAZA                 4784 non-null   int64 \n",
      " 9   ID                    4784 non-null   object\n",
      " 10  NIVEL                 4784 non-null   int64 \n",
      " 11  ESTATUS               4784 non-null   object\n",
      " 12  SITUACION             64 non-null     object\n",
      " 13  # EMP                 4784 non-null   int32 \n",
      " 14  NOMBRE COMPLETO       4716 non-null   object\n",
      " 15  OFICIO DE FECHA       2760 non-null   object\n",
      " 16  MUNICIPIO             4247 non-null   object\n",
      " 17  COMISION              2877 non-null   object\n",
      " 18  FISCALIA DE DISTRITO  4247 non-null   object\n",
      "dtypes: int32(1), int64(3), object(15)\n",
      "memory usage: 691.6+ KB\n"
     ]
    }
   ],
   "source": [
    "datos.info()"
   ]
  },
  {
   "cell_type": "code",
   "execution_count": 33,
   "metadata": {},
   "outputs": [
    {
     "data": {
      "text/plain": [
       "'FLORES MARTINEZ ERWIN FRANCISCO'"
      ]
     },
     "execution_count": 33,
     "metadata": {},
     "output_type": "execute_result"
    }
   ],
   "source": [
    "datos_nombre = datos[ (datos['# EMP']==49445) ]\n",
    "datos_nombre.iloc[0,14]"
   ]
  },
  {
   "cell_type": "code",
   "execution_count": 34,
   "metadata": {},
   "outputs": [
    {
     "data": {
      "text/plain": [
       "['CENTRO DE JUSTICIA PARA LAS MUJERES',\n",
       " 'COMISARIA DE ANALISIS E INTELIGENCIA',\n",
       " 'COMISARIA DE OPERACION ESTRATEGICA',\n",
       " 'COMISARIA DE OPERACION POLICIAL',\n",
       " 'COMISARIA GENERAL DE INVESTIGACION',\n",
       " 'COMISARIO JEFE DE ANALISIS Y ESTRATEGIA',\n",
       " 'COMISION ESTATAL DE BUSQUEDA DE PERSONAS',\n",
       " 'COORDINACION DE ASESORIA',\n",
       " 'COORDINACION DE COMUNICACION SOCIAL Y ENLACE CON DEPENDENCIAS Y ORGANISMOS',\n",
       " 'COORDINACION DE INVESTIGACION',\n",
       " 'COORDINACION DE LA OFICINA DEL FISCAL GENERAL',\n",
       " 'COORDINACION DE LITIGACION',\n",
       " 'COORDINACION DE MINISTERIOS PUBLICOS',\n",
       " 'COORDINACION DE OPERACION Y SUPERVISION',\n",
       " 'COORDINACION DE SERVICIOS PERICIALES',\n",
       " 'COORDINACION GENERAL DE INVESTIGACION',\n",
       " 'DELEGACION EN LA ZONA SUR',\n",
       " 'DELEGACION EN MATAMOROS',\n",
       " 'DELEGACION EN NUEVO LAREDO',\n",
       " 'DELEGACION EN REYNOSA',\n",
       " 'DIRECCION DE ADMINISTRACION',\n",
       " 'DIRECCION DE ADMINISTRACION Y FINANZAS',\n",
       " 'DIRECCION DE ADMINISTRACION, CAPACITACION Y EVALUACION',\n",
       " 'DIRECCION DE ANALISIS DE INFORMACION, TEGNOLOGIAS Y ESTADISTICAS',\n",
       " 'DIRECCION DE ANALISIS LEGISLATIVO Y ASUNTOS CONTENSIOSO',\n",
       " 'DIRECCION DE ANALISIS LEGISLATIVO Y DE ASUNTOS CONTENCIOSOS',\n",
       " 'DIRECCION DE ATENCION A VICTIMAS',\n",
       " 'DIRECCION DE ATENCION Y DECISION TEMPRANA',\n",
       " 'DIRECCION DE ATENCION Y SERVICIOS A LA COMUNIDAD',\n",
       " 'DIRECCION DE AUDITORIA Y FISCALIZACION',\n",
       " 'DIRECCION DE AVERIGUACIONES PREVIAS',\n",
       " 'DIRECCION DE AVERIGUACIONES PREVIAS (2)',\n",
       " 'DIRECCION DE COLABORACIONES Y DE ATENCION A ORGANISMOS EN MATERIA DE DERECHOS HUMANOS',\n",
       " 'DIRECCION DE COMUNICACION SOCIAL',\n",
       " 'DIRECCION DE CONTROL DE ASEGURAMIENTO DE BIENES Y EXTINCION DE DOMINIO',\n",
       " 'DIRECCION DE CONTROL DE PROCESOS',\n",
       " 'DIRECCION DE ENLACE CON INSTANCIAS DE SEGURIDAD PUBLICA',\n",
       " 'DIRECCION DE IMPUTADO DESCONOCIDO Y TRAMITACION MASIVA DE CASOS',\n",
       " 'DIRECCION DE LA POLICIA MINISTERIAL',\n",
       " 'DIRECCION DE LITIGACION Y EXTINCION DE DOMINIO',\n",
       " 'DIRECCION DE MANEJO DE CRISIS Y NEGOCIACION',\n",
       " 'DIRECCION DE MECANISMOS ALTERNATIVOS DE SOLUCION DE CONTROVERSIAS',\n",
       " 'DIRECCION DE MEDIOS DE IMPUGNACION Y CONSTITUCIONALIDAD',\n",
       " 'DIRECCION DE MEJORA DE LA GESTION Y CONTROL INTERNO',\n",
       " 'DIRECCION DE OPERACION',\n",
       " 'DIRECCION DE PLANEACION Y SEGUIMIENTO',\n",
       " 'DIRECCION DE PREVENSION Y DIFUSION',\n",
       " 'DIRECCION DE QUEJAS, PROCEDIMIENTOS ADMINISTRATIVOS Y DICTAMINACION',\n",
       " 'DIRECCION DE RECURSOS HUMANOS',\n",
       " 'DIRECCION DE RECURSOS MATERIALES Y SERVICIOS',\n",
       " 'DIRECCION DE SERVICIOS PERICIALES',\n",
       " 'DIRECCION DE VINCULACION Y ENLACE',\n",
       " 'DIRECCION DE VISITADURIA Y SEGUIMIENTO',\n",
       " 'DIRECCION GENERAL DE ADMINISTRACION',\n",
       " 'DIRECCION GENERAL DE ASUNTOS JURIDICOS Y DE DERECHOS HUMANOS',\n",
       " 'DIRECCION GENERAL DE ATENCION TEMPRANA Y MECANISMOS ALTERNATIVOS DE SOLUCION DE CONTROVERSIAS',\n",
       " 'DIRECCION GENERAL DE AVERIGUACIONES PREVIAS Y CONTROL DE PROCESOS',\n",
       " 'DIRECCION GENERAL DE FORMACION Y SERVICIO PROFESIONAL DE CARRERA',\n",
       " 'DIRECCION GENERAL DE LITIGACION Y CONSTITUCIONALIDAD',\n",
       " 'DIRECCION GENERAL DE TECNOLOGIA, INFORMACION Y TELECOMUNICACIONES',\n",
       " 'DIRECCION GENERAL EJECUTIVA',\n",
       " 'DIRECCION GRAL. DE OPERACION DEL PROCEDIMIENTO PENAL ACUSATORIO Y ORAL',\n",
       " 'DIRECCION JURIDICA Y RESPONSABILIDADES ADMINISTRATIVAS',\n",
       " 'DIRECCION PARA LA PROTECCION DE PERSONAS',\n",
       " 'DIRECCION SUR-CENTRO',\n",
       " 'DIRECCION TECNICA DEL SERVICIO PROFESIONAL DE CARRERA',\n",
       " 'DIRECCION ZONA NORTE',\n",
       " 'FISCALIA DE DISTRITO DE EL MANTE',\n",
       " 'FISCALIA DE DISTRITO DE MATAMOROS',\n",
       " 'FISCALIA DE DISTRITO DE NUEVO LAREDO',\n",
       " 'FISCALIA DE DISTRITO DE REYNOSA',\n",
       " 'FISCALIA DE DISTRITO DE VICTORIA',\n",
       " 'FISCALIA DE DISTRITO ZONA SUR',\n",
       " 'FISCALIA ESPECIALIZADA EN ASUNTOS INTERNOS',\n",
       " 'FISCALIA ESPECIALIZADA EN COMBATE A LA CORRUPCION',\n",
       " 'FISCALIA ESPECIALIZADA EN DELITOS ELECTORALES',\n",
       " 'FISCALIA ESPECIALIZADA EN EL COMBATE A LA CORRUPCION',\n",
       " 'FISCALIA ESPECIALIZADA EN LA INVESTIGACION DE DELITOS CONTRA NIÑAS, NIÑOS Y ADOLESCENTES Y DELITOS CONTRA LAS MUJERES POR RAZONES DE GENERO',\n",
       " 'FISCALIA ESPECIALIZADA EN LA INVESTIGACION DE DELITOS DE ALTO IMPACTO',\n",
       " 'FISCALIA ESPECIALIZADA EN LA INVESTIGACION DE LOS DELITOS DE DESAPARICION FORZADA DE PERSONAS',\n",
       " 'FISCALIA ESPECIALIZADA EN LA INVESTIGACION DE VIOLACIONES A DERECHOS HUMANOS',\n",
       " 'FISCALIA GENERAL DE JUSTICIA',\n",
       " 'INSTITUTO DE FORMACION PROFESIONAL',\n",
       " 'ORGANO INTERNO DE CONTROL',\n",
       " 'SECRETARIA PARTICULAR',\n",
       " 'UNIDAD DE MANEJO DE CRISIS Y NEGOCIACION',\n",
       " 'UNIDAD DE OPERACION',\n",
       " 'UNIDAD DE OPERACIONES ESTRATEGICAS Y REACCION INMEDIATA',\n",
       " 'UNIDAD DE POLITICA ELECTORAL',\n",
       " 'UNIDAD DE SERVICIOS FORENSES Y MULTIDISCIPLINARIOS',\n",
       " 'UNIDAD DE TRANSPARENCIA',\n",
       " 'UNIDAD ESPECIALIZADA EN COMBATE AL SECUESTRO',\n",
       " 'UNIDAD ESPECIALIZADA EN EL DELITO DE TRATA DE PERSONAS',\n",
       " 'UNIDAD ESPECIALIZADA EN LA INVESTIGACION DE DELITO DE FEMINICIDIO',\n",
       " 'UNIDAD ESPECIALIZADA EN LA INVESTIGACION DE DELITOS CONTRA LAS MUJERES POR RAZONES DE GENERO',\n",
       " 'UNIDAD ESPECIALIZADA EN LA INVESTIGACION DE DELITOS CONTRA NIÑAS, NIÑOS Y ADOLESCENTES',\n",
       " 'UNIDAD ESPECIALIZADA EN LA INVESTIGACION DE DELITOS DE ALTO IMPACTO',\n",
       " 'UNIDAD ESPECIALIZADA EN LA INVESTIGACION DE DELITOS ELECTORALES',\n",
       " 'UNIDAD ESPECIALIZADA EN LA INVESTIGACION DE LOS DELITOS COMETIDOS CONTRA LA LIBERTAD DE EXPRESION, DERECHOS HUMANOS Y GRUPOS VULNERABLES',\n",
       " 'UNIDAD ESPECIALIZADA EN LA INVESTIGACION DEL DELITO DE ABUSO DE AUTORIDAD',\n",
       " 'UNIDAD ESPECIALIZADA EN LA INVESTIGACION DEL DELITO DE EXTORSION',\n",
       " 'UNIDAD ESPECIALIZADA EN LA INVESTIGACION DEL DELITO DE HOMICIDIO',\n",
       " 'UNIDAD ESPECIALIZADA EN LA INVESTIGACION DEL DELITO DE OPERACIONES CON RECURSOS DE PROCEDENCIA ILICITA',\n",
       " 'UNIDAD ESPECIALIZADA EN LA INVESTIGACION DEL DELITO DE TORTURA Y OTROS TRATOS Y PENAS CRUELES, INHUMANOS O DEGRADANTES',\n",
       " 'UNIDAD ESPECIALIZADA EN LA INVESTIGACION DEL DELITO DE TRATA DE PERSONAS',\n",
       " 'UNIDAD ESPECIALIZADA EN LA INVESTIGACION Y LITIGACION DE DELITOS COMETIDOS POR SERVIDORES PUBLICOS DE LA FISCALIA GENERAL',\n",
       " 'UNIDAD MINISTERIAL Y DE LITIGACION',\n",
       " 'UNIDAD TECNICA',\n",
       " 'VICEFISCALIA DE DELITOS DE ALTO IMPACTO Y DE VIOLACIONES A DERECHOS HUMANOS',\n",
       " 'VICEFISCALIA DE LITIGACION, CONTROL DE PROCESOS Y CONSTITUCIONALIDAD',\n",
       " 'VICEFISCALIA MINISTERIAL']"
      ]
     },
     "execution_count": 34,
     "metadata": {},
     "output_type": "execute_result"
    }
   ],
   "source": [
    "lista_areas_direccion = list(datos['DIRECCION'].unique())\n",
    "lista_areas_direccion.sort()\n",
    "lista_areas_direccion"
   ]
  }
 ],
 "metadata": {
  "interpreter": {
   "hash": "33bd8383ae98eb592e66e295518d0ee210ce9e5884e5be4742939aac41c33d38"
  },
  "kernelspec": {
   "display_name": "Python 3.8.10 64-bit",
   "name": "python3"
  },
  "language_info": {
   "codemirror_mode": {
    "name": "ipython",
    "version": 3
   },
   "file_extension": ".py",
   "mimetype": "text/x-python",
   "name": "python",
   "nbconvert_exporter": "python",
   "pygments_lexer": "ipython3",
   "version": "3.8.10"
  },
  "orig_nbformat": 4
 },
 "nbformat": 4,
 "nbformat_minor": 2
}
